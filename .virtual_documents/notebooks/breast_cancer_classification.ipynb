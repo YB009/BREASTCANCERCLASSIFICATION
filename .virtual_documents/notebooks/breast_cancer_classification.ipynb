from sklearn.datasets import load_breast_cancer
import pandas as pd

# Load dataset
data = load_breast_cancer()
X = pd.DataFrame(data.data, columns=data.feature_names)
y = pd.Series(data.target, name='target')

print("Features:", X.shape)
print("Target classes:", y.unique())  # 0 = malignant, 1 = benign





from sklearn.model_selection import train_test_split

X_train, X_test, y_train, y_test = train_test_split(
    X, y, test_size=0.2, random_state=42
)

print("Train size:", X_train.shape)
print("Test size:", X_test.shape)





from sklearn.linear_model import LogisticRegression
from sklearn.metrics import accuracy_score

lr = LogisticRegression(max_iter=10000)
lr.fit(X_train, y_train)
y_pred = lr.predict(X_test)

print("Logistic Regression Accuracy:", accuracy_score(y_test, y_pred))





from sklearn.svm import SVC

svm = SVC(kernel='linear')
svm.fit(X_train, y_train)
y_pred = svm.predict(X_test)

print("SVM Accuracy:", accuracy_score(y_test, y_pred))





from sklearn.tree import DecisionTreeClassifier

dt = DecisionTreeClassifier(random_state=42)
dt.fit(X_train, y_train)
y_pred = dt.predict(X_test)

print("Decision Tree Accuracy:", accuracy_score(y_test, y_pred))





from sklearn.ensemble import RandomForestClassifier

rf = RandomForestClassifier(random_state=42)
rf.fit(X_train, y_train)
y_pred = rf.predict(X_test)

print("Random Forest Accuracy:", accuracy_score(y_test, y_pred))


import pickle

# Save the model
with open('../models/random_forest.pkl', 'wb') as f:
    pickle.dump(rf, f)

print("Model saved to models/random_forest.pkl")


import matplotlib.pyplot as plt

# Plot feature importance for Random Forest
importances = rf.feature_importances_
features = X.columns
plt.barh(features, importances)
plt.title("Feature Importance (Random Forest)")
plt.show()


from sklearn.model_selection import cross_val_score

# 5-fold cross-validation for Random Forest
scores = cross_val_score(rf, X, y, cv=5)
print("Cross-Validation Scores:", scores)
print("Mean Accuracy:", scores.mean())



