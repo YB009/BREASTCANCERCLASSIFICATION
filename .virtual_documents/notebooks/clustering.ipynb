from sklearn.cluster import KMeans
from sklearn.preprocessing import StandardScaler
import matplotlib.pyplot as plt

# Load breast cancer data
data = load_breast_cancer()
X = pd.DataFrame(data.data, columns=data.feature_names)

# Standardize and cluster
scaler = StandardScaler()
X_scaled = scaler.fit_transform(X)
kmeans = KMeans(n_clusters=2, random_state=42)
clusters = kmeans.fit_predict(X_scaled)

# Visualize (PCA for 2D projection)
from sklearn.decomposition import PCA
pca = PCA(n_components=2)
X_pca = pca.fit_transform(X_scaled)

plt.scatter(X_pca[:, 0], X_pca[:, 1], c=clusters, cmap='viridis')
plt.title("K-Means Clustering (Breast Cancer Data)")
plt.show()



