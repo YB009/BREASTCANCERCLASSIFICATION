# Load dataset
from sklearn.datasets import load_wine
import pandas as pd

wine = load_wine()
X = pd.DataFrame(wine.data, columns=wine.feature_names)
y = pd.Series(wine.target, name='target')
X.to_csv('../data/wine_data.csv', index=False)

# Train/test split
from sklearn.model_selection import train_test_split
X_train, X_test, y_train, y_test = train_test_split(X, y, test_size=0.2, random_state=42)

# Train models (Logistic Regression, SVM, Decision Tree)
from sklearn.linear_model import LogisticRegression
from sklearn.svm import SVC
from sklearn.tree import DecisionTreeClassifier
import pickle

models = {
    "logistic_regression": LogisticRegression(max_iter=10000),
    "svm": SVC(),
    "decision_tree": DecisionTreeClassifier(random_state=42)
}

for name, model in models.items():
    model.fit(X_train, y_train)
    pickle.dump(model, open(f'../models/{name}.pkl', 'wb'))
    print(f"{name} accuracy: {model.score(X_test, y_test):.2f}")



